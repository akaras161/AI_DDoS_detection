{
 "cells": [
  {
   "cell_type": "code",
   "execution_count": 1,
   "id": "1fd989cd-729a-4869-aedb-7407b70eebc6",
   "metadata": {},
   "outputs": [],
   "source": [
    "# Kolejnym etapem projektu jest właświwa weryfikacja skuteczności działania wcześniej wytrenowanych modeli na nowych zbiorach danych.\n",
    "# Do testowania modelu wykorzystany został plik NetBIOS.csv, który zawiera ruch łagodny oraz ruch atakujący NetBIOS. W porównaniu do\n",
    "# poprzedniego zbioru danych NetBIOS.csv nie zawiera ataku LDAP."
   ]
  },
  {
   "cell_type": "code",
   "execution_count": 1,
   "id": "6171873d-8e34-46a4-a01c-c048ea10b68d",
   "metadata": {},
   "outputs": [],
   "source": [
    "# Wszystkie wymagane importy\n",
    "\n",
    "import pandas as pd\n",
    "import numpy as np\n",
    "from collections import Counter\n",
    "import matplotlib.pyplot as plt\n",
    "import joblib\n",
    "\n",
    "from sklearn.preprocessing import StandardScaler, MinMaxScaler, LabelEncoder\n",
    "from sklearn.model_selection import train_test_split\n",
    "from sklearn.ensemble import RandomForestClassifier\n",
    "from sklearn.metrics import accuracy_score, classification_report, confusion_matrix, ConfusionMatrixDisplay\n",
    "from sklearn.impute import SimpleImputer\n",
    "from sklearn.feature_selection import SelectKBest, f_classif\n"
   ]
  },
  {
   "cell_type": "code",
   "execution_count": 2,
   "id": "initial_id",
   "metadata": {},
   "outputs": [],
   "source": [
    "# Wczytanie danych testowych\n",
    "path = \"data/NetBIOS.csv\"\n",
    "\n",
    "dataframe_test = pd.read_csv(path, low_memory=False)"
   ]
  },
  {
   "cell_type": "code",
   "execution_count": 3,
   "id": "b9d1d027-405a-4f6c-aafd-8419b706a805",
   "metadata": {},
   "outputs": [
    {
     "name": "stdout",
     "output_type": "stream",
     "text": [
      "[('BENIGN', 1321), ('NetBIOS', 3454578)]\n"
     ]
    }
   ],
   "source": [
    "print (sorted(Counter(dataframe_test[\" Label\"]).items()))"
   ]
  },
  {
   "cell_type": "code",
   "execution_count": 4,
   "id": "6b134ef1-7bbd-447d-9578-8066fa658454",
   "metadata": {},
   "outputs": [],
   "source": [
    "# Wybieranie cech (ręcznie, na podstawie posiadanej wiedzy) - dokładnie te same cechy, które zostały wcześniej wybrane.\n",
    "selected_columns = [' Source Port', ' Destination Port', ' Protocol', ' Fwd Packet Length Max', 'Flow Bytes/s', ' Flow Packets/s', ' Flow IAT Mean', 'Fwd Packets/s', ' Bwd Packets/s',' SYN Flag Count', ' RST Flag Count', ' PSH Flag Count', ' ACK Flag Count', ' Average Packet Size']\n",
    "\n",
    "# wykorzystanie tylko wcześniej wybranych cech\n",
    "X_2 = dataframe_test[selected_columns]\n",
    "Y_2 = dataframe_test[' Label']"
   ]
  },
  {
   "cell_type": "code",
   "execution_count": null,
   "id": "3ddeb28f-5750-4c5d-a27b-af36a4ba6f34",
   "metadata": {},
   "outputs": [],
   "source": [
    "# Kolejnym etapem jest obronienie nowych danych w taki sam sposób jak poprzednich. Należy zastąpić brakujące i nieskończone wartości\n",
    "# wartościami średnimi dla danej cechy."
   ]
  },
  {
   "cell_type": "code",
   "execution_count": 5,
   "id": "8e77d5c7-6127-4bd5-9813-22a3c495281c",
   "metadata": {},
   "outputs": [
    {
     "name": "stdout",
     "output_type": "stream",
     "text": [
      " Source Port              0\n",
      " Destination Port         0\n",
      " Protocol                 0\n",
      " Fwd Packet Length Max    0\n",
      "Flow Bytes/s              6\n",
      " Flow Packets/s           0\n",
      " Flow IAT Mean            0\n",
      "Fwd Packets/s             0\n",
      " Bwd Packets/s            0\n",
      " SYN Flag Count           0\n",
      " RST Flag Count           0\n",
      " PSH Flag Count           0\n",
      " ACK Flag Count           0\n",
      " Average Packet Size      0\n",
      "dtype: int64\n",
      " Source Port              0\n",
      " Destination Port         0\n",
      " Protocol                 0\n",
      " Fwd Packet Length Max    0\n",
      "Flow Bytes/s              0\n",
      " Flow Packets/s           0\n",
      " Flow IAT Mean            0\n",
      "Fwd Packets/s             0\n",
      " Bwd Packets/s            0\n",
      " SYN Flag Count           0\n",
      " RST Flag Count           0\n",
      " PSH Flag Count           0\n",
      " ACK Flag Count           0\n",
      " Average Packet Size      0\n",
      "dtype: int64\n",
      " Source Port                   0\n",
      " Destination Port              0\n",
      " Protocol                      0\n",
      " Fwd Packet Length Max         0\n",
      "Flow Bytes/s              130560\n",
      " Flow Packets/s           130560\n",
      " Flow IAT Mean                 0\n",
      "Fwd Packets/s                  0\n",
      " Bwd Packets/s                 0\n",
      " SYN Flag Count                0\n",
      " RST Flag Count                0\n",
      " PSH Flag Count                0\n",
      " ACK Flag Count                0\n",
      " Average Packet Size           0\n",
      "dtype: int64\n",
      " Source Port              0\n",
      " Destination Port         0\n",
      " Protocol                 0\n",
      " Fwd Packet Length Max    0\n",
      "Flow Bytes/s              0\n",
      " Flow Packets/s           0\n",
      " Flow IAT Mean            0\n",
      "Fwd Packets/s             0\n",
      " Bwd Packets/s            0\n",
      " SYN Flag Count           0\n",
      " RST Flag Count           0\n",
      " PSH Flag Count           0\n",
      " ACK Flag Count           0\n",
      " Average Packet Size      0\n",
      "dtype: int64\n"
     ]
    }
   ],
   "source": [
    "# Sprawdzenie, czy są brakujące wartości\n",
    "# Liczba brakujących wartości w każdej kolumnie\n",
    "print(X_2.isna().sum())\n",
    "\n",
    "# Wypełnianie brakujących wartości średnią\n",
    "X_2 = X_2.fillna(X_2.mean())\n",
    "\n",
    "# Sprawdzenie, czy są brakujące wartości\n",
    "# Liczba brakujących wartości w każdej kolumnie\n",
    "print(X_2.isna().sum())  \n",
    "\n",
    "# Sprawdzenie obecności wartości inf i -inf w danych\n",
    "# Liczba wartości inf w każdej kolumnie\n",
    "print(np.isinf(X_2).sum())  \n",
    "\n",
    "# Zastąpienie wartości inf lub -inf np. średnią danej kolumny\n",
    "# Zamiana inf na NaN\n",
    "X_2 = X_2.replace([np.inf, -np.inf], np.nan)\n",
    "\n",
    "# Wypełnianie NaN średnią\n",
    "X_2 = X_2.fillna(X_2.mean())\n",
    "\n",
    "# Sprawdzenie obecności wartości inf i -inf w danych\n",
    "# Liczba wartości inf w każdej kolumnie\n",
    "print(np.isinf(X_2).sum()) \n",
    "\n",
    "# Standaryzacja cech\n",
    "scaler = StandardScaler()\n",
    "X_2_scaled = scaler.fit_transform(X_2)\n",
    "\n",
    "# Normalizacja cech do zakresu [0, 1]\n",
    "scaler = MinMaxScaler()\n",
    "X_2_normalized = scaler.fit_transform(X_2)"
   ]
  },
  {
   "cell_type": "code",
   "execution_count": 6,
   "id": "4e461a2e-3b01-4ee1-90f6-b220276a2744",
   "metadata": {},
   "outputs": [],
   "source": [
    "# Działanie na nowych danych testowych\n",
    "scaler = StandardScaler()\n",
    "\n",
    "# Normalizacja danych testoweych w ten sam sposób co danych treningowych\n",
    "X_2_scaled = scaler.fit_transform(X_2)"
   ]
  },
  {
   "cell_type": "code",
   "execution_count": 7,
   "id": "84420ac1-2902-4439-add7-1b30375c5fb7",
   "metadata": {},
   "outputs": [],
   "source": [
    "# Załadowanie wcześniej zapisanego modelu wytrenowanego na danych niezbalansowanych\n",
    "model_unbalanced = joblib.load('unbalanced_model.pkl')"
   ]
  },
  {
   "cell_type": "code",
   "execution_count": 8,
   "id": "669cb7c9-9442-4d3c-b4fd-44a63372ffd1",
   "metadata": {},
   "outputs": [
    {
     "name": "stdout",
     "output_type": "stream",
     "text": [
      "Accuracy: 0.005047890577820706\n",
      "\n",
      "Classification Report:\n",
      "              precision    recall  f1-score   support\n",
      "\n",
      "      BENIGN       0.57      0.98      0.72      1321\n",
      "        LDAP       0.00      1.00      0.00         0\n",
      "     NetBIOS       1.00      0.00      0.01   3454578\n",
      "\n",
      "    accuracy                           0.01   3455899\n",
      "   macro avg       0.52      0.66      0.24   3455899\n",
      "weighted avg       1.00      0.01      0.01   3455899\n",
      "\n"
     ]
    }
   ],
   "source": [
    "# Predykcja na nowych danych testowych\n",
    "Y_2_pred = model_unbalanced.predict(X_2_scaled)  # Jeśli używasz X_2_scaled\n",
    "\n",
    "# Ocena dokładności modelu\n",
    "accuracy = accuracy_score(Y_2, Y_2_pred)\n",
    "print(\"Accuracy:\", accuracy)\n",
    "\n",
    "# Raport klasyfikacji\n",
    "print(\"\\nClassification Report:\")\n",
    "# print(classification_report(Y_2, Y_2_pred))\n",
    "\n",
    "# Raport klasyfikacji z parametrem zero_division\n",
    "print(classification_report(Y_2, Y_2_pred, zero_division=1))"
   ]
  },
  {
   "cell_type": "code",
   "execution_count": null,
   "id": "0b56df1a-5015-4a3d-a4df-70d8f05d3bf7",
   "metadata": {},
   "outputs": [],
   "source": [
    "# Ocena skuteczności modelu bazując na nowym zbiorze danych całkowicie podważyła wcześniejsze wyniki. Obecnie model uzyskał dokładność\n",
    "# na poziomie 0.005047890577820706 co jest wartością krytyczną."
   ]
  },
  {
   "cell_type": "code",
   "execution_count": 9,
   "id": "51f87ae0-8f29-4769-a033-549257c6a48d",
   "metadata": {},
   "outputs": [
    {
     "data": {
      "image/png": "[encoded data removed]",
      "text/plain": [
       "<Figure size 640x480 with 2 Axes>"
      ]
     },
     "metadata": {},
     "output_type": "display_data"
    }
   ],
   "source": [
    "# Obliczenie macierzy pomyłek\n",
    "cm = confusion_matrix(Y_2, Y_2_pred)\n",
    "\n",
    "# Wizualizacja macierzy pomyłek\n",
    "disp = ConfusionMatrixDisplay(confusion_matrix=cm, display_labels=model_unbalanced.classes_)\n",
    "\n",
    "# Formatowanie wartości w macierzy pomyłek jako liczby całkowite\n",
    "disp.plot(cmap='Blues', values_format='d')\n",
    "\n",
    "# Wyświetlenie wykresu\n",
    "plt.show()\n"
   ]
  },
  {
   "cell_type": "code",
   "execution_count": null,
   "id": "4e6bf176-245c-4f58-ac86-de062546b94e",
   "metadata": {},
   "outputs": [],
   "source": [
    "# Jednakże predykcje modelu wskazują, że poprawnie rozpoznaje on ruch łagodny oraz ruch atakujący. Jego największą wadą jest fakt,\n",
    "# że nie potrafi określić jaki rodzaj ataku został przeprowadzony (jaki protokół został wykorzystany w ataku DDoS).\n",
    "# Model niemalże całkowicie mylo atak NetBIOS i klasyfikuje go jako LDAP pomimo, że w zbiorze danych testowych nie znajduje się ani jedna próbka\n",
    "# danych z label \"LDAP\" - [('BENIGN', 1321), ('NetBIOS', 3454578)]"
   ]
  },
  {
   "cell_type": "code",
   "execution_count": null,
   "id": "046d0dd3-c4f5-472f-b190-8efc17951901",
   "metadata": {},
   "outputs": [],
   "source": [
    "# Następnie sprawdzany jest model, który został wytrenowany na danych zbalansowanych, ale o małej liczebności klas."
   ]
  },
  {
   "cell_type": "code",
   "execution_count": 10,
   "id": "5ab3e25a-f282-4edf-be12-d39cac36b18a",
   "metadata": {},
   "outputs": [],
   "source": [
    "# Załadowanie wcześniej zapisanego modelu\n",
    "model_undersampling = joblib.load('undersampling_model.pkl')"
   ]
  },
  {
   "cell_type": "code",
   "execution_count": 11,
   "id": "027719e0-8065-4d4c-aa00-e2ba57a85b80",
   "metadata": {},
   "outputs": [
    {
     "name": "stdout",
     "output_type": "stream",
     "text": [
      "Accuracy: 0.5208815419663595\n",
      "\n",
      "Classification Report:\n",
      "              precision    recall  f1-score   support\n",
      "\n",
      "      BENIGN       0.00      1.00      0.00      1321\n",
      "        LDAP       0.00      1.00      0.00         0\n",
      "     NetBIOS       1.00      0.52      0.68   3454578\n",
      "\n",
      "    accuracy                           0.52   3455899\n",
      "   macro avg       0.33      0.84      0.23   3455899\n",
      "weighted avg       1.00      0.52      0.68   3455899\n",
      "\n"
     ]
    }
   ],
   "source": [
    "# Predykcja na nowych danych testowych\n",
    "Y_2_pred = model_undersampling.predict(X_2_scaled)  # Jeśli używasz X_2_scaled\n",
    "\n",
    "# Ocena dokładności modelu\n",
    "accuracy = accuracy_score(Y_2, Y_2_pred)\n",
    "print(\"Accuracy:\", accuracy)\n",
    "\n",
    "# Raport klasyfikacji\n",
    "print(\"\\nClassification Report:\")\n",
    "# print(classification_report(Y_2, Y_2_pred))\n",
    "\n",
    "# Raport klasyfikacji z parametrem zero_division\n",
    "print(classification_report(Y_2, Y_2_pred, zero_division=1))"
   ]
  },
  {
   "cell_type": "code",
   "execution_count": null,
   "id": "3212bc87-4162-450e-9c3d-db4eb4829a61",
   "metadata": {},
   "outputs": [],
   "source": [
    "# Bazując na accuracy można stwierdzić, że model trenowany na danych zbalansowanych lepiej klasyfikował próbki niż poprzedni, którego trening\n",
    "# wykorzystywał dane niezbalansowane."
   ]
  },
  {
   "cell_type": "code",
   "execution_count": 12,
   "id": "f2ac8950-54fe-44e2-9e63-c8904c125e1f",
   "metadata": {},
   "outputs": [
    {
     "data": {
      "image/png": "[encoded data removed]",
      "text/plain": [
       "<Figure size 640x480 with 2 Axes>"
      ]
     },
     "metadata": {},
     "output_type": "display_data"
    }
   ],
   "source": [
    "# Obliczenie macierzy pomyłek\n",
    "cm = confusion_matrix(Y_2, Y_2_pred)\n",
    "\n",
    "# Wizualizacja macierzy pomyłek\n",
    "disp = ConfusionMatrixDisplay(confusion_matrix=cm, display_labels=model_undersampling.classes_)\n",
    "\n",
    "# Formatowanie wartości w macierzy pomyłek jako liczby całkowite\n",
    "disp.plot(cmap='Blues', values_format='d')\n",
    "\n",
    "# Wyświetlenie wykresu\n",
    "plt.show()\n"
   ]
  },
  {
   "cell_type": "code",
   "execution_count": null,
   "id": "5cf2d6a4-b588-4f26-9575-dd7904ecd0c6",
   "metadata": {},
   "outputs": [],
   "source": [
    "# Jednakże z macieży \"confusion matrix\" wynika, że predykcje modelu pomimo statystycznie częstszych trafnych decyzji wynikają\n",
    "# z faktu, że model znacznie częściej klasyfikował atak NetBIOS jako właściwy NetBIOS. Jednakże jego ogólne działanie okazało się\n",
    "# znacznie gorze niż poprzedniego modelu, ponieważ bardzo czeęsto mylił ruch NetBIOS z ruchem łagodnym, co w przypadku\n",
    "# ataku DDoS stanowi krytyczny błąd dla bezpieczeństwa systemów i sieci.\n",
    "\n",
    "# Na tym etapie projektu po mimo, że model unbalanced_model.pkl osiągnął dokładność na poziomie 0.005047890577820706 to zdecydowanie lepiej\n",
    "# radził sobie z klasyfikacją, czy badany ruch jest atakiem, czy ruchem łagodnym, niż model undersampling_model.pkl, którego dokłądność wynosiła\n",
    "# 0.5208815419663595.\n",
    "\n",
    "# Z punktu widzenia praktycznego działania i dbania o bezpieczeństwo można stwierdzić, że model unbalanced_model.pkl lepiej radzi sobie\n",
    "# z wykrywaniem ataków, jednakże ma bardzo duże problemy z rozróżnianiem klasy ataku. \n",
    "# Pomimo tych problemów w ocenie skuteczności pod względem zapewnienia bezpieczeństwa jego wyniki są zdecydowanie lepsze \n",
    "# niż modelu undersampling_model.pkl\n",
    "\n",
    "# Dalsza część projektu zanjduje się w pliku v4_automated_feature_selection.ipynb"
   ]
  }
 ],
 "metadata": {
  "kernelspec": {
   "display_name": "Python 3 (ipykernel)",
   "language": "python",
   "name": "python3"
  },
  "language_info": {
   "codemirror_mode": {
    "name": "ipython",
    "version": 3
   },
   "file_extension": ".py",
   "mimetype": "text/x-python",
   "name": "python",
   "nbconvert_exporter": "python",
   "pygments_lexer": "ipython3",
   "version": "3.10.12"
  }
 },
 "nbformat": 4,
 "nbformat_minor": 5
}
