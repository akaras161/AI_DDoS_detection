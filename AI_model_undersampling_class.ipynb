{
 "cells": [
  {
   "cell_type": "code",
   "execution_count": 1,
   "id": "initial_id",
   "metadata": {},
   "outputs": [],
   "source": [
    "# All required imports\n",
    "# Run before using\n",
    "\n",
    "import pandas as pd\n",
    "from collections import Counter\n",
    "import numpy as np\n",
    "from sklearn.preprocessing import StandardScaler, MinMaxScaler\n",
    "from sklearn.model_selection import train_test_split\n",
    "from sklearn.ensemble import RandomForestClassifier\n",
    "from sklearn.metrics import accuracy_score, classification_report, confusion_matrix, ConfusionMatrixDisplay\n",
    "import matplotlib.pyplot as plt\n",
    "import joblib"
   ]
  },
  {
   "cell_type": "code",
   "execution_count": 2,
   "id": "a6c16748-5b45-4076-bcff-e8b791de7f05",
   "metadata": {},
   "outputs": [],
   "source": [
    "# Wczytanie danych\n",
    "path = \"data/LDAP.csv\"\n",
    "dataframe = pd.read_csv(path, low_memory=False)"
   ]
  },
  {
   "cell_type": "code",
   "execution_count": 3,
   "id": "025bd079-e63f-47d9-96b1-8c883b82e737",
   "metadata": {},
   "outputs": [],
   "source": [
    "# Ustawienie wyświetlania wszytskich kolumn i wierszy\n",
    "pd.set_option(\"display.max_rows\", None)\n",
    "pd.set_option(\"display.max_columns\", None)"
   ]
  },
  {
   "cell_type": "code",
   "execution_count": 4,
   "id": "ff43fd86-cca1-416a-a77f-69ddc8b7d3b7",
   "metadata": {},
   "outputs": [
    {
     "name": "stdout",
     "output_type": "stream",
     "text": [
      "[('BENIGN', 5124), ('LDAP', 1905191), ('NetBIOS', 202919)]\n"
     ]
    }
   ],
   "source": [
    "# Wyświetlenie ilości w klasach\n",
    "print (sorted(Counter(dataframe[\" Label\"]).items()))"
   ]
  },
  {
   "cell_type": "code",
   "execution_count": 5,
   "id": "33b7ecb1-d9de-4a14-a24e-a0ba27465749",
   "metadata": {},
   "outputs": [
    {
     "name": "stdout",
     "output_type": "stream",
     "text": [
      "(10000, 87)\n",
      "(10000,)\n"
     ]
    }
   ],
   "source": [
    "# Dzielenie dataframe na klasy\n",
    "\n",
    "benign = dataframe[dataframe[' Label'] == 'BENIGN']\n",
    "ldap = dataframe[dataframe[' Label'] == 'LDAP']\n",
    "netbios = dataframe[dataframe[' Label'] == 'NetBIOS']\n",
    "\n",
    "# Losowanie próbek z każdej klasy\n",
    "benign_sampled = benign.sample(n=5000, random_state=42)\n",
    "ldap_sampled = ldap.sample(n=2500, random_state=42)\n",
    "netbios_sampled = netbios.sample(n=2500, random_state=42)\n",
    "\n",
    "# Połączenie danych\n",
    "df_balanced = pd.concat([benign_sampled, ldap_sampled, netbios_sampled])\n",
    "\n",
    "# Stworzenie nowych X i Y\n",
    "X = df_balanced.drop(columns=[' Label'])  # Zakładamy, że kolumna 'label' zawiera etykiety\n",
    "Y = df_balanced[' Label']\n",
    "\n",
    "# Sprawdzenie zbalansowania danych w X i Y\n",
    "print(X.shape)\n",
    "print(Y.shape)"
   ]
  },
  {
   "cell_type": "code",
   "execution_count": 6,
   "id": "4c0844d6-5d09-4ee8-8aed-e0a87de20871",
   "metadata": {},
   "outputs": [
    {
     "name": "stdout",
     "output_type": "stream",
     "text": [
      "[('BENIGN', 5000), ('LDAP', 2500), ('NetBIOS', 2500)]\n"
     ]
    }
   ],
   "source": [
    "# Ponowne wyświetlenie ilości w klasach\n",
    "print (sorted(Counter(df_balanced[\" Label\"]).items()))"
   ]
  },
  {
   "cell_type": "code",
   "execution_count": 7,
   "id": "38a89938-c5a5-4a37-b030-272148f2cec3",
   "metadata": {},
   "outputs": [],
   "source": [
    "# Usunięcie pierwszej kolumny 'Unnamed'\n",
    "dataframe = dataframe.drop(dataframe.columns[0], axis=1)"
   ]
  },
  {
   "cell_type": "code",
   "execution_count": 8,
   "id": "97dcc97e-283f-4f11-aa23-de37f5f88487",
   "metadata": {},
   "outputs": [],
   "source": [
    "# Wybieranie cech (ręcznie, na podstawie posiadanej wiedzy)\n",
    "selected_columns = [' Source Port', ' Destination Port', ' Protocol', ' Fwd Packet Length Max', 'Flow Bytes/s', ' Flow Packets/s', ' Flow IAT Mean', 'Fwd Packets/s', ' Bwd Packets/s',' SYN Flag Count', ' RST Flag Count', ' PSH Flag Count', ' ACK Flag Count', ' Average Packet Size']\n",
    "\n",
    "# wykorzystanie tylko wcześniej wybranych cech\n",
    "X = df_balanced[selected_columns]"
   ]
  },
  {
   "cell_type": "code",
   "execution_count": 9,
   "id": "d7adc7ed-2a49-4007-ae0f-d5df899b45ac",
   "metadata": {},
   "outputs": [
    {
     "name": "stdout",
     "output_type": "stream",
     "text": [
      " Source Port               0\n",
      " Destination Port          0\n",
      " Protocol                  0\n",
      " Fwd Packet Length Max     0\n",
      "Flow Bytes/s              12\n",
      " Flow Packets/s            0\n",
      " Flow IAT Mean             0\n",
      "Fwd Packets/s              0\n",
      " Bwd Packets/s             0\n",
      " SYN Flag Count            0\n",
      " RST Flag Count            0\n",
      " PSH Flag Count            0\n",
      " ACK Flag Count            0\n",
      " Average Packet Size       0\n",
      "dtype: int64\n"
     ]
    }
   ],
   "source": [
    "# Sprawdzenie, czy są brakujące wartości\n",
    "print(X.isna().sum())  # Liczba brakujących wartości w każdej kolumnie"
   ]
  },
  {
   "cell_type": "code",
   "execution_count": 10,
   "id": "2e179db3-8a3b-47de-9477-e06acee8dd44",
   "metadata": {},
   "outputs": [],
   "source": [
    "X = X.fillna(X.mean())  # Wypełnianie brakujących wartości średnią"
   ]
  },
  {
   "cell_type": "code",
   "execution_count": 11,
   "id": "7c9ecbe0-1171-40fe-a625-cc035a9d4d71",
   "metadata": {},
   "outputs": [
    {
     "name": "stdout",
     "output_type": "stream",
     "text": [
      " Source Port              0\n",
      " Destination Port         0\n",
      " Protocol                 0\n",
      " Fwd Packet Length Max    0\n",
      "Flow Bytes/s              0\n",
      " Flow Packets/s           0\n",
      " Flow IAT Mean            0\n",
      "Fwd Packets/s             0\n",
      " Bwd Packets/s            0\n",
      " SYN Flag Count           0\n",
      " RST Flag Count           0\n",
      " PSH Flag Count           0\n",
      " ACK Flag Count           0\n",
      " Average Packet Size      0\n",
      "dtype: int64\n"
     ]
    }
   ],
   "source": [
    "# Sprawdzenie, czy są brakujące wartości\n",
    "print(X.isna().sum())  # Liczba brakujących wartości w każdej kolumnie"
   ]
  },
  {
   "cell_type": "code",
   "execution_count": 12,
   "id": "d6eaaa31-0666-48df-90be-111c64808e38",
   "metadata": {},
   "outputs": [
    {
     "name": "stdout",
     "output_type": "stream",
     "text": [
      " Source Port                0\n",
      " Destination Port           0\n",
      " Protocol                   0\n",
      " Fwd Packet Length Max      0\n",
      "Flow Bytes/s              243\n",
      " Flow Packets/s           243\n",
      " Flow IAT Mean              0\n",
      "Fwd Packets/s               0\n",
      " Bwd Packets/s              0\n",
      " SYN Flag Count             0\n",
      " RST Flag Count             0\n",
      " PSH Flag Count             0\n",
      " ACK Flag Count             0\n",
      " Average Packet Size        0\n",
      "dtype: int64\n"
     ]
    }
   ],
   "source": [
    "# Sprawdzenie obecności wartości inf i -inf w danych\n",
    "print(np.isinf(X).sum())  # Liczba wartości inf w każdej kolumnie"
   ]
  },
  {
   "cell_type": "code",
   "execution_count": 13,
   "id": "8083bbb4-ead5-4d5a-9e48-e5bff51c5922",
   "metadata": {},
   "outputs": [],
   "source": [
    "# Zastąpienie wartości inf lub -inf np. średnią danej kolumny\n",
    "X = X.replace([np.inf, -np.inf], np.nan)  # Zamiana inf na NaN\n",
    "X = X.fillna(X.mean())  # Wypełnianie NaN średnią"
   ]
  },
  {
   "cell_type": "code",
   "execution_count": 14,
   "id": "00f3020f-622b-4d83-a671-4761494e3464",
   "metadata": {},
   "outputs": [
    {
     "name": "stdout",
     "output_type": "stream",
     "text": [
      " Source Port              0\n",
      " Destination Port         0\n",
      " Protocol                 0\n",
      " Fwd Packet Length Max    0\n",
      "Flow Bytes/s              0\n",
      " Flow Packets/s           0\n",
      " Flow IAT Mean            0\n",
      "Fwd Packets/s             0\n",
      " Bwd Packets/s            0\n",
      " SYN Flag Count           0\n",
      " RST Flag Count           0\n",
      " PSH Flag Count           0\n",
      " ACK Flag Count           0\n",
      " Average Packet Size      0\n",
      "dtype: int64\n"
     ]
    }
   ],
   "source": [
    "# Sprawdzenie obecności wartości inf i -inf w danych\n",
    "print(np.isinf(X).sum())  # Liczba wartości inf w każdej kolumnie"
   ]
  },
  {
   "cell_type": "code",
   "execution_count": 15,
   "id": "25d81d13-8683-4dc1-8672-86b2e398165c",
   "metadata": {},
   "outputs": [],
   "source": [
    "# Standaryzacja cech\n",
    "scaler = StandardScaler()\n",
    "X_scaled = scaler.fit_transform(X)"
   ]
  },
  {
   "cell_type": "code",
   "execution_count": 16,
   "id": "3f9ac18e-293e-4b75-bcb3-4d8bcdcacee3",
   "metadata": {},
   "outputs": [],
   "source": [
    "# Normalizacja cech do zakresu [0, 1]\n",
    "scaler = MinMaxScaler()\n",
    "X_normalized = scaler.fit_transform(X)"
   ]
  },
  {
   "cell_type": "code",
   "execution_count": 17,
   "id": "3f2158ce-91f4-424a-8ca0-9b3b171751c3",
   "metadata": {},
   "outputs": [],
   "source": [
    "# Podział na dane treningowe i testowe\n",
    "X_train, X_test, Y_train, Y_test = train_test_split(X_scaled, Y, test_size=0.2, random_state=42)"
   ]
  },
  {
   "cell_type": "code",
   "execution_count": 18,
   "id": "291e8815-26d3-40a9-a034-b8c6c9dda927",
   "metadata": {},
   "outputs": [
    {
     "name": "stdout",
     "output_type": "stream",
     "text": [
      "Accuracy: 0.9995\n",
      "              precision    recall  f1-score   support\n",
      "\n",
      "      BENIGN       1.00      1.00      1.00      1012\n",
      "        LDAP       1.00      1.00      1.00       492\n",
      "     NetBIOS       1.00      1.00      1.00       496\n",
      "\n",
      "    accuracy                           1.00      2000\n",
      "   macro avg       1.00      1.00      1.00      2000\n",
      "weighted avg       1.00      1.00      1.00      2000\n",
      "\n"
     ]
    }
   ],
   "source": [
    "# Tworzenie modelu Random Forest\n",
    "model = RandomForestClassifier(n_estimators=100, random_state=42)\n",
    "\n",
    "# Trenowanie modelu na danych treningowych\n",
    "model.fit(X_train, Y_train)\n",
    "\n",
    "# Zapisanie modelu do pliku\n",
    "joblib.dump(model, 'undersampling_model.pkl')\n",
    "\n",
    "# Predykcja na danych testowych\n",
    "Y_pred = model.predict(X_test)\n",
    "\n",
    "# Ocena dokładności modelu\n",
    "accuracy = accuracy_score(Y_test, Y_pred)\n",
    "print(\"Accuracy:\", accuracy)\n",
    "\n",
    "# Wyświetlanie raportu klasyfikacji\n",
    "print(classification_report(Y_test, Y_pred))"
   ]
  },
  {
   "cell_type": "code",
   "execution_count": 19,
   "id": "68af3e67-9005-4277-b2c4-2ca02ad2bf27",
   "metadata": {
    "scrolled": true
   },
   "outputs": [
    {
     "data": {
      "image/png": "[encoded data removed]",
      "text/plain": [
       "<Figure size 640x480 with 2 Axes>"
      ]
     },
     "metadata": {},
     "output_type": "display_data"
    }
   ],
   "source": [
    "# Obliczenie macierzy pomyłek\n",
    "cm = confusion_matrix(Y_test, Y_pred)\n",
    "\n",
    "# Wykres macierzy pomyłek\n",
    "fig, ax = plt.subplots()\n",
    "cax = ax.matshow(cm, cmap='Blues')\n",
    "fig.colorbar(cax)\n",
    "\n",
    "# Etykiety osi\n",
    "ax.set_xticks(np.arange(len(model.classes_)))\n",
    "ax.set_yticks(np.arange(len(model.classes_)))\n",
    "\n",
    "# Etykiety osi\n",
    "ax.set_xticklabels(model.classes_)\n",
    "ax.set_yticklabels(model.classes_)\n",
    "\n",
    "# Etykiety osi\n",
    "plt.xlabel('Predicted')\n",
    "plt.ylabel('True')\n",
    "plt.title('Confusion Matrix')\n",
    "\n",
    "# Dodanie wartości liczbowych w komórkach\n",
    "for (i, j), val in np.ndenumerate(cm):\n",
    "    ax.text(j, i, val, ha='center', va='center', color='red')\n",
    "\n",
    "plt.show()\n"
   ]
  }
 ],
 "metadata": {
  "kernelspec": {
   "display_name": "Python 3 (ipykernel)",
   "language": "python",
   "name": "python3"
  },
  "language_info": {
   "codemirror_mode": {
    "name": "ipython",
    "version": 3
   },
   "file_extension": ".py",
   "mimetype": "text/x-python",
   "name": "python",
   "nbconvert_exporter": "python",
   "pygments_lexer": "ipython3",
   "version": "3.10.12"
  }
 },
 "nbformat": 4,
 "nbformat_minor": 5
}
